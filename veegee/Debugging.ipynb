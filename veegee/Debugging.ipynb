{
 "cells": [
  {
   "cell_type": "code",
   "execution_count": 1,
   "metadata": {},
   "outputs": [],
   "source": [
    "from veegeeNP import *\n",
    "import sys\n",
    "sys.path.append('../')"
   ]
  },
  {
   "cell_type": "code",
   "execution_count": 9,
   "metadata": {},
   "outputs": [],
   "source": [
    "with open('../tests/test_case.svg', 'r', encoding='utf-8') as f:\n",
    "    test_file = f.read()\n",
    "\n",
    "with open('../tests/pathtest.txt', 'r', encoding='utf-8') as f:\n",
    "    test_pathA = f.read()\n",
    "\n",
    "with open('../tests/path1test.txt', 'r', encoding='utf-8') as f:\n",
    "    test_pathB = f.read()"
   ]
  },
  {
   "cell_type": "code",
   "execution_count": 3,
   "metadata": {},
   "outputs": [],
   "source": [
    "paths = list_elements(test_file)"
   ]
  },
  {
   "cell_type": "code",
   "execution_count": 4,
   "metadata": {},
   "outputs": [
    {
     "name": "stdout",
     "output_type": "stream",
     "text": [
      "<path d=\"m 90.714276,176.04758 c 0,0 -30.994041,-6.80357 -32.505944,-31.74999 C 56.696426,119.35116 209.39879,148.8333 168.57736,58.874994 127.75594,-31.083336 52.916665,25.613092 52.916665,25.613092\" id=\"path3713\" inkscape:connector-curvature=\"0\" style=\"fill:none;stroke:#000000;stroke-width:0.26458332px;stroke-linecap:butt;stroke-linejoin:miter;stroke-opacity:1\"></path>\n",
      "<path d=\"m 9.8273803,98.184493 c 0,0 9.8273787,-40.821406 47.6249987,-46.869023 37.797604,-6.047618 58.208321,28.726172 37.797604,32.505932 -20.410698,3.779757 -74.083319,27.970228 -58.96427,56.696418 15.119045,28.72619 47.624999,49.13691 47.624999,49.13691\" id=\"path3715\" inkscape:connector-curvature=\"0\" style=\"fill:none;stroke:#000000;stroke-width:0.26458332px;stroke-linecap:butt;stroke-linejoin:miter;stroke-opacity:1\"></path>\n"
     ]
    }
   ],
   "source": [
    "for path in paths:\n",
    "    print(path)"
   ]
  },
  {
   "cell_type": "code",
   "execution_count": 69,
   "metadata": {},
   "outputs": [
    {
     "data": {
      "text/plain": [
       "'<path d=\"m 90.714276,176.04758 c 0,0 -30.994041,-6.80357 -32.505944,-31.74999 C 56.696426,119.35116 209.39879,148.8333 168.57736,58.874994 127.75594,-31.083336 52.916665,25.613092 52.916665,25.613092\" id=\"path3713\" inkscape:connector-curvature=\"0\" style=\"fill:none;stroke:#000000;stroke-width:0.26458332px;stroke-linecap:butt;stroke-linejoin:miter;stroke-opacity:1\"></path>\\n'"
      ]
     },
     "execution_count": 69,
     "metadata": {},
     "output_type": "execute_result"
    }
   ],
   "source": [
    "test_pathA"
   ]
  },
  {
   "cell_type": "code",
   "execution_count": 147,
   "metadata": {},
   "outputs": [],
   "source": [
    "import re\n",
    "import numpy as np"
   ]
  },
  {
   "cell_type": "code",
   "execution_count": 136,
   "metadata": {},
   "outputs": [],
   "source": [
    "'\"([A-Za-z0-9_\\./\\\\-]*)\"'\n",
    "pattern = r' d=\"([^\"]*)'\n",
    "out = re.findall(pattern, test_pathA)[0]"
   ]
  },
  {
   "cell_type": "code",
   "execution_count": 145,
   "metadata": {},
   "outputs": [],
   "source": [
    "commands = [command for command in out.split() if command.isalpha()]\n",
    "points = [point for point in out.split() if not point.isalpha()]"
   ]
  },
  {
   "cell_type": "code",
   "execution_count": 150,
   "metadata": {},
   "outputs": [
    {
     "data": {
      "text/plain": [
       "array([[ 90.714276, 176.04758 ],\n",
       "       [  0.      ,   0.      ],\n",
       "       [-30.994041,  -6.80357 ],\n",
       "       [-32.505944, -31.74999 ],\n",
       "       [ 56.696426, 119.35116 ],\n",
       "       [209.39879 , 148.8333  ],\n",
       "       [168.57736 ,  58.874994],\n",
       "       [127.75594 , -31.083336],\n",
       "       [ 52.916665,  25.613092],\n",
       "       [ 52.916665,  25.613092]])"
      ]
     },
     "execution_count": 150,
     "metadata": {},
     "output_type": "execute_result"
    }
   ],
   "source": [
    "def make_points_numpy(points):\n",
    "    points_array = np.zeros((len(points),2))\n",
    "    for row, point in enumerate(points):\n",
    "        vals = point.split(\",\")\n",
    "        points_array[row] = [float(vals[0]), float(vals[1])]\n",
    "    return points_array\n",
    "\n",
    "make_points_numpy(points)"
   ]
  },
  {
   "cell_type": "code",
   "execution_count": 151,
   "metadata": {},
   "outputs": [],
   "source": [
    "points_reqs = {\n",
    "\"m\": 1,\n",
    "\"M\": 1,\n",
    "\"l\": 1,\n",
    "\"L\": 1,\n",
    "\"q\": 2,\n",
    "\"Q\": 2,\n",
    "\"s\": 2,\n",
    "\"S\": 2,\n",
    "\"c\": 3,\n",
    "\"C\": 3,\n",
    "}"
   ]
  },
  {
   "cell_type": "code",
   "execution_count": null,
   "metadata": {},
   "outputs": [],
   "source": [
    "#Read up on data classes"
   ]
  }
 ],
 "metadata": {
  "kernelspec": {
   "display_name": "Python 3",
   "language": "python",
   "name": "python3"
  },
  "language_info": {
   "codemirror_mode": {
    "name": "ipython",
    "version": 3
   },
   "file_extension": ".py",
   "mimetype": "text/x-python",
   "name": "python",
   "nbconvert_exporter": "python",
   "pygments_lexer": "ipython3",
   "version": "3.6.7"
  }
 },
 "nbformat": 4,
 "nbformat_minor": 4
}
