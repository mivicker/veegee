{
 "cells": [
  {
   "cell_type": "code",
   "execution_count": 9,
   "metadata": {},
   "outputs": [],
   "source": [
    "from svg_path import *\n",
    "import numpy as np"
   ]
  },
  {
   "cell_type": "code",
   "execution_count": 39,
   "metadata": {},
   "outputs": [],
   "source": [
    "def to_dpoint(array):\n",
    "    return DPoint(array[0], array[1])\n",
    "\n",
    "def to_dpoints(points_array):\n",
    "    return np.apply_along_axis(to_dpoint, 1, points_array)\n",
    "\n",
    "def make_curve(dpoints_list, stroke=\"black\"):\n",
    "    move_to = MoveTo(dpoints_list[0])\n",
    "    cpoint1, cpoint2, cpoint3 = dpoints_list[1:]\n",
    "    curve_to = CurveTo(cpoint1,cpoint2,cpoint3)\n",
    "\n",
    "    return Path([move_to, curve_to], f'stroke={stroke} fill=\"transparent\"')\n",
    "\n",
    "def path_from_numpy(array,stroke=\"black\"):\n",
    "    dpoints = to_dpoints(array)\n",
    "    return make_curve(dpoints, stroke=stroke)\n",
    "\n"
   ]
  },
  {
   "cell_type": "code",
   "execution_count": 29,
   "metadata": {},
   "outputs": [],
   "source": [
    "\"\"\"\n",
    "points = np.array([[30,70],[100,10],[300, 10], [400, 55]])\n",
    "a_path = path_from_numpy(points)\n",
    "paths = []\n",
    "conv = np.array([[.5,0],[0,.5]])\n",
    "offsets = np.arange(.1, 1, .2)\n",
    "\n",
    "for offset in offsets:\n",
    "    points = (prev @ (conv + np.eye(2) * offset)+np.array([0,offset*60]))\n",
    "    paths.append(path_from_numpy(points))\n",
    "\n",
    "\"\"\"\n",
    "pathA = '<path d=\"M 10 80 C 40 10, 65 10, 95 80\" stroke=\"black\" fill=\"transparent\"/>'\n",
    "pathB = '<path d=\"M 30 90 C -0 20, 105 20, 75 90\" stroke=\"black\" fill=\"transparent\"/>'\n",
    "\n",
    "paths = [pathA, pathB]\n",
    "doc = SVG_file(paths)\n",
    "#<path d=\"M 10 80 C 40 10, 65 10, 95 80 S 150 150, 180 80\" stroke=\"black\" fill=\"transparent\"/>\n"
   ]
  },
  {
   "cell_type": "code",
   "execution_count": 30,
   "metadata": {},
   "outputs": [],
   "source": [
    "with open('random_svg.svg', 'w') as f:\n",
    "    f.write(str(doc))"
   ]
  },
  {
   "cell_type": "code",
   "execution_count": 69,
   "metadata": {},
   "outputs": [],
   "source": [
    "#color list c33c54-254e70-37718e-8ee3ef-aef3e7\n",
    "scale = 3\n",
    "translation = -np.array([0,50])\n",
    "\n",
    "array1 = np.array([[10,80],[-10,10],[105,10],[125,60]]) * scale + translation\n",
    "array2 = np.array([[40,90],[-15,10],[105,20],[65,105]]) * scale/2 + translation\n",
    "\n",
    "crossfade = np.arange(0,1.1,.05)\n",
    "crossfade = crossfade\n",
    "paths=[]\n",
    "\n",
    "for i, fade in enumerate(crossfade):\n",
    "    array = fade * array1 + (1-fade) * array2\n",
    "    path = path_from_numpy(array, stroke=f\"'{colors[i%5]}'\")\n",
    "    paths.append(path)\n",
    "    \n",
    "doc = SVG_file(paths)\n",
    "with open('random_svg.svg', 'w') as f:\n",
    "    f.write(str(doc))"
   ]
  },
  {
   "cell_type": "code",
   "execution_count": 34,
   "metadata": {},
   "outputs": [],
   "source": [
    "#A numpy object that remains transformable, but can easilty be parsed into SVG commands."
   ]
  },
  {
   "cell_type": "code",
   "execution_count": 51,
   "metadata": {},
   "outputs": [
    {
     "name": "stdout",
     "output_type": "stream",
     "text": [
      "['#c33c54', '#254e70', '#37718e', '#8ee3ef', '#aef3e7']\n",
      "passed\n"
     ]
    }
   ],
   "source": [
    "def color_list_from_coolor(coolor):\n",
    "    coolor = coolor.split(\"-\")\n",
    "    return [f\"#{cool}\" for cool in coolor]\n",
    "\n",
    "def color_test():\n",
    "    output = color_list_from_coolor(\"c33c54-254e70-37718e-8ee3ef-aef3e7\")\n",
    "    assert output == [\"#c33c54\", \"#254e70\", \"#37718e\", \"#8ee3ef\", \"#aef3e7\"], \"List not generated correctly\"\n",
    "\n",
    "    print(\"passed\")\n",
    "\n",
    "color_test()"
   ]
  },
  {
   "cell_type": "code",
   "execution_count": 67,
   "metadata": {},
   "outputs": [],
   "source": [
    "colors = color_list_from_coolor(\"efefef-3454d1-34d1bf-070707-d1345b\")"
   ]
  },
  {
   "cell_type": "code",
   "execution_count": null,
   "metadata": {},
   "outputs": [],
   "source": []
  }
 ],
 "metadata": {
  "kernelspec": {
   "display_name": "Python 3",
   "language": "python",
   "name": "python3"
  },
  "language_info": {
   "codemirror_mode": {
    "name": "ipython",
    "version": 3
   },
   "file_extension": ".py",
   "mimetype": "text/x-python",
   "name": "python",
   "nbconvert_exporter": "python",
   "pygments_lexer": "ipython3",
   "version": "3.7.4"
  }
 },
 "nbformat": 4,
 "nbformat_minor": 2
}
