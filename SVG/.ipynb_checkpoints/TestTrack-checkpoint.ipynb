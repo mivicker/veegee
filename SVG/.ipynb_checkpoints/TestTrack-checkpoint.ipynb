{
 "cells": [
  {
   "cell_type": "code",
   "execution_count": 1,
   "metadata": {},
   "outputs": [],
   "source": [
    "from svg_path import *\n",
    "import numpy as np"
   ]
  },
  {
   "cell_type": "code",
   "execution_count": 20,
   "metadata": {},
   "outputs": [],
   "source": [
    "def to_dpoint(array):\n",
    "    return DPoint(array[0], array[1])\n",
    "\n",
    "def to_dpoints(points_array):\n",
    "    return np.apply_along_axis(to_dpoint, 1, points_array)\n",
    "\n",
    "def make_curve(dpoints_list):\n",
    "    move_to = MoveTo(dpoints_list[0])\n",
    "    cpoint1, cpoint2, cpoint3 = dpoints_list[1:]\n",
    "    curve_to = CurveTo(cpoint1,cpoint2,cpoint3)\n",
    "\n",
    "    return Path([move_to, curve_to], 'stroke=\"black\" fill=\"transparent\"')\n",
    "\n",
    "def path_from_numpy(array):\n",
    "    dpoints = to_dpoints(array)\n",
    "    return make_curve(dpoints)\n",
    "\n"
   ]
  },
  {
   "cell_type": "code",
   "execution_count": 119,
   "metadata": {},
   "outputs": [],
   "source": [
    "points = np.array([[30,70],[100,10],[300, 10], [400, 55]])\n",
    "a_path = path_from_numpy(points)\n",
    "paths = []\n",
    "conv = np.array([[.5,0],[0,.5]])\n",
    "offsets = np.arange(.1, 1, .2)\n",
    "\n",
    "for offset in offsets:\n",
    "    points = (prev @ (conv + np.eye(2) * offset)+np.array([0,offset*60]))\n",
    "    paths.append(path_from_numpy(points))\n",
    "\n",
    "doc = SVG_file(paths)"
   ]
  },
  {
   "cell_type": "code",
   "execution_count": 120,
   "metadata": {},
   "outputs": [],
   "source": [
    "with open('random_svg.svg', 'w') as f:\n",
    "    f.write(str(doc))"
   ]
  },
  {
   "cell_type": "code",
   "execution_count": 121,
   "metadata": {},
   "outputs": [],
   "source": [
    "import requests"
   ]
  },
  {
   "cell_type": "code",
   "execution_count": 129,
   "metadata": {},
   "outputs": [],
   "source": [
    "s = requests.Session()\n",
    "response = s.get('https://coolors.co/app')"
   ]
  },
  {
   "cell_type": "code",
   "execution_count": null,
   "metadata": {},
   "outputs": [],
   "source": []
  }
 ],
 "metadata": {
  "kernelspec": {
   "display_name": "Python 3",
   "language": "python",
   "name": "python3"
  },
  "language_info": {
   "codemirror_mode": {
    "name": "ipython",
    "version": 3
   },
   "file_extension": ".py",
   "mimetype": "text/x-python",
   "name": "python",
   "nbconvert_exporter": "python",
   "pygments_lexer": "ipython3",
   "version": "3.7.4"
  }
 },
 "nbformat": 4,
 "nbformat_minor": 2
}
